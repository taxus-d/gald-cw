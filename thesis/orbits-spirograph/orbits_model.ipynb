{
 "cells": [
  {
   "cell_type": "code",
   "execution_count": 1,
   "metadata": {},
   "outputs": [],
   "source": [
    "import numpy as np\n",
    "import pandas as pd"
   ]
  },
  {
   "cell_type": "code",
   "execution_count": 2,
   "metadata": {},
   "outputs": [],
   "source": [
    "from IPython.display import display, HTML\n",
    "from ipywidgets import interact, interactive, fixed, interact_manual\n",
    "import ipywidgets as widgets\n",
    "\n",
    "%load_ext autoreload\n",
    "%autoreload 2"
   ]
  },
  {
   "cell_type": "code",
   "execution_count": 3,
   "metadata": {},
   "outputs": [],
   "source": [
    "import plotly.express as px\n",
    "import plotly.graph_objects as go\n",
    "import plotly.io as pio\n",
    "pio.templates.default = \"plotly_white\""
   ]
  },
  {
   "cell_type": "code",
   "execution_count": 4,
   "metadata": {},
   "outputs": [],
   "source": [
    "t = pd.DataFrame({\n",
    "    'fx0':[1], 'fy0':[1], 'fz0':[2],\n",
    "    'fx1':[4], 'fy1':[4], 'fz1':[1],\n",
    "    'fx2':[1], 'fy2':[1], 'fz2':[1],\n",
    "    'Ax0':[1], 'Ay0':[1], 'Az0':[0.5],\n",
    "    'Ax1':[0.3], 'Ay1':[0.3], 'Az1':[0],\n",
    "    'Ax2':[0], 'Ay2':[0], 'Az2':[0],\n",
    "    'px0':[0], 'py0':[np.pi/2], 'pz0':[0],\n",
    "    'px1':[0], 'py1':[np.pi/2], 'pz1':[0],\n",
    "    'px2':[0], 'py2':[0], 'pz2':[0],\n",
    "})"
   ]
  },
  {
   "cell_type": "code",
   "execution_count": 5,
   "metadata": {},
   "outputs": [],
   "source": [
    "def build_orbit(t, rown):\n",
    "    tt = np.linspace(0,9*np.pi,num=500)\n",
    "    pos = pd.DataFrame(np.zeros(shape=(len(tt), 3)), columns=['x', 'y', 'z'])\n",
    "    row = t.loc[rown]\n",
    "    for c in pos.columns:\n",
    "        pos[c] += sum(\n",
    "            (np.cos(tt*row[f\"f{c}{i}\"] + row[f\"p{c}{i}\"])*row[f\"A{c}{i}\"] for i in range(3))\n",
    "        )\n",
    "    return pos"
   ]
  },
  {
   "cell_type": "code",
   "execution_count": 8,
   "metadata": {},
   "outputs": [],
   "source": [
    "pos = build_orbit(t, 0)"
   ]
  },
  {
   "cell_type": "code",
   "execution_count": 13,
   "metadata": {},
   "outputs": [],
   "source": [
    "fig = px.line(pos, 'x', 'y', render_mode='webgl')\n",
    "fig.update_layout(\n",
    "    xaxis=dict(range=[-1.5,1.5]),\n",
    "    yaxis=dict(range=[-1.5, 1.5], scaleanchor=\"x\", scaleratio=1))\n",
    "fig.update_traces(\n",
    "    line=dict(width=5, color='darkred'))\n",
    "None"
   ]
  },
  {
   "cell_type": "code",
   "execution_count": 14,
   "metadata": {},
   "outputs": [],
   "source": [
    "fw = go.FigureWidget(fig)"
   ]
  },
  {
   "cell_type": "code",
   "execution_count": 16,
   "metadata": {},
   "outputs": [
    {
     "data": {
      "application/vnd.jupyter.widget-view+json": {
       "model_id": "f9fc803a89914502b5714f44b1b3567c",
       "version_major": 2,
       "version_minor": 0
      },
      "text/plain": [
       "HBox(children=(VBox(children=(FloatSlider(value=1.0, description='fx0', max=10.0, step=0.01), FloatSlider(valu…"
      ]
     },
     "metadata": {},
     "output_type": "display_data"
    },
    {
     "data": {
      "application/vnd.jupyter.widget-view+json": {
       "model_id": "352839d25ba84b69b8a05dd60b9559c0",
       "version_major": 2,
       "version_minor": 0
      },
      "text/plain": [
       "FigureWidget({\n",
       "    'data': [{'hoverlabel': {'namelength': 0},\n",
       "              'hovertemplate': 'x=%{x}<br>y=%{y}…"
      ]
     },
     "metadata": {},
     "output_type": "display_data"
    }
   ],
   "source": [
    "widgs = dict()\n",
    "for flsl in ['fx0', 'fx1', 'fy0', 'fy1']:\n",
    "    widgs[flsl] = widgets.FloatSlider(description=flsl, \n",
    "                                      value=1, min=0, max=10, step=0.01)\n",
    "for flsl in ['Ax0', 'Ax1', 'Ay0', 'Ay1']:\n",
    "    widgs[flsl] = widgets.FloatSlider(description=flsl, \n",
    "                                      value=1, min=0, max=2, step=0.01)\n",
    "for phsl in ['px0', 'px1', 'py0', 'py1']:\n",
    "    widgs[phsl] = widgets.FloatSlider(description=phsl, \n",
    "                                      value=0, min=-2*np.pi, max=2*np.pi, step=0.01)\n",
    "widgs['Ax1'].value = 0\n",
    "widgs['Ay1'].value = 0\n",
    "widgs['py0'].value = np.pi/2\n",
    "\n",
    "ui = widgets.HBox([\n",
    "    widgets.VBox([widgs['fx0'], widgs['fx1'], widgs['fy0'], widgs['fy1']]),\n",
    "    widgets.VBox([widgs['Ax0'], widgs['Ax1'], widgs['Ay0'], widgs['Ay1']]),\n",
    "    widgets.VBox([widgs['px0'], widgs['px1'], widgs['py0'], widgs['py1']]),\n",
    "])\n",
    "\n",
    "def update(ch):\n",
    "    with fw.batch_update():\n",
    "        for k,v in widgs.items():\n",
    "            t.loc[0, k] = v.value\n",
    "        pos = build_orbit(t, 0)\n",
    "        fw.data[0].x = pos['x']\n",
    "        fw.data[0].y = pos['y']\n",
    "\n",
    "for k,v in widgs.items():\n",
    "    widgs[k].observe(update, names=\"value\")\n",
    "\n",
    "update(\"whatever\")\n",
    "display(ui,fw)"
   ]
  },
  {
   "cell_type": "code",
   "execution_count": null,
   "metadata": {},
   "outputs": [],
   "source": []
  },
  {
   "cell_type": "code",
   "execution_count": null,
   "metadata": {},
   "outputs": [],
   "source": []
  }
 ],
 "metadata": {
  "kernelspec": {
   "display_name": "Python 3",
   "language": "python",
   "name": "python3"
  },
  "language_info": {
   "codemirror_mode": {
    "name": "ipython",
    "version": 3
   },
   "file_extension": ".py",
   "mimetype": "text/x-python",
   "name": "python",
   "nbconvert_exporter": "python",
   "pygments_lexer": "ipython3",
   "version": "3.7.4"
  }
 },
 "nbformat": 4,
 "nbformat_minor": 4
}
