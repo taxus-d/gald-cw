{
 "cells": [
  {
   "cell_type": "code",
   "execution_count": 1,
   "metadata": {},
   "outputs": [],
   "source": [
    "import numpy as np\n",
    "import yaml\n",
    "\n",
    "%load_ext autoreload\n",
    "%autoreload 2"
   ]
  },
  {
   "cell_type": "code",
   "execution_count": 5,
   "metadata": {},
   "outputs": [],
   "source": [
    "import matplotlib.pyplot as plt\n",
    "from matplotlib import cm\n",
    "from matplotlib.colors import SymLogNorm\n",
    "\n",
    "# строить картинки высокого разрешения\n",
    "%matplotlib inline\n",
    "%config InlineBackend.figure_format = 'retina'\n",
    "\n",
    "import matplotlib.image as mpimg\n",
    "\n",
    "import seaborn as sb\n",
    "# настройка стиля\n",
    "sb.set(rc={'figure.figsize':(4,3)})\n",
    "sb.set_style('whitegrid', {'grid.linestyle': '--'})\n",
    "sb.set_palette(\"dark\")\n",
    "# ещё более тонкая настройка отображения картинок\n",
    "dpi,fontsize = 120,8\n",
    "plt.rc('text', usetex=True)\n",
    "plt.rc(\"savefig\", dpi=dpi)\n",
    "plt.rc(\"figure\", dpi=dpi)\n",
    "plt.rc('font', size=fontsize)\n",
    "plt.rc('xtick', direction='in') \n",
    "plt.rc('ytick', direction='in')\n",
    "#plt.rc('xtick.major', pad=5) \n",
    "#plt.rc('xtick.minor', pad=5)\n",
    "#plt.rc('ytick.major', pad=5) \n",
    "#plt.rc('ytick.minor', pad=5)\n",
    "plt.rc('lines', dotted_pattern = [0.5, 1.1])\n",
    "plt.rc('axes', axisbelow=False)"
   ]
  },
  {
   "cell_type": "code",
   "execution_count": 6,
   "metadata": {},
   "outputs": [],
   "source": [
    "from utils.ratios import fraction_formatter\n",
    "def plot_orbit(r, a, dphi, ax=None, labels=None, **kwargs):\n",
    "    tt = np.linspace(0,21*np.pi,num=400)\n",
    "    xx = np.cos(tt)\n",
    "    yy = a*np.sin(tt*r + dphi)\n",
    "    \n",
    "    ll = {'r': \"%s\" % fraction_formatter(r,1, pi_nv=(1, '1')), \n",
    "          'dphi': \"%s\" % fraction_formatter(dphi,1, pi_nv=(np.pi, r'\\pi'))} if labels is None else labels\n",
    "    label = (r\"\\halign{\\hfil$#$\\,\\,&#&\\,\\,#\\cr\\omega_y/\\omega_x&=&%s\\cr\\Delta\\varphi&=&%s\\cr}\" % (ll['r'], ll['dphi']))\n",
    "    \n",
    "    ax = plt.gca() if ax is None else ax\n",
    "    ax.plot(xx, yy, **kwargs)\n",
    "    ax.set_ylim((-1,1))\n",
    "    ax.text(-1,0.75, label,\n",
    "            horizontalalignment='left', verticalalignment='center',\n",
    "            fontsize=10, \n",
    "            bbox=dict(facecolor='white', edgecolor='lightgray', alpha=0.8))\n",
    "    return ax"
   ]
  },
  {
   "cell_type": "code",
   "execution_count": 7,
   "metadata": {},
   "outputs": [
    {
     "data": {
      "application/vnd.jupyter.widget-view+json": {
       "model_id": "68e663a8468a46ae8b1d689777dc4f1a",
       "version_major": 2,
       "version_minor": 0
      },
      "text/plain": [
       "interactive(children=(FloatSlider(value=1.6666666666666667, description='r', max=3.0, step=0.01), FloatSlider(…"
      ]
     },
     "metadata": {},
     "output_type": "display_data"
    }
   ],
   "source": [
    "from ipywidgets import interact, interactive, fixed, interact_manual\n",
    "import ipywidgets as widgets\n",
    "@interact(r=(0, 3.0, 0.01),\n",
    "          a=(-1, 2.0, 0.1),\n",
    "          b=(-1,1,0.01))\n",
    "def _(r=5/3,a=0.5,b=0):\n",
    "    plot_orbit(r,a,b*np.pi)"
   ]
  },
  {
   "cell_type": "code",
   "execution_count": null,
   "metadata": {},
   "outputs": [],
   "source": []
  }
 ],
 "metadata": {
  "kernelspec": {
   "display_name": "Python 3",
   "language": "python",
   "name": "python3"
  },
  "language_info": {
   "codemirror_mode": {
    "name": "ipython",
    "version": 3
   },
   "file_extension": ".py",
   "mimetype": "text/x-python",
   "name": "python",
   "nbconvert_exporter": "python",
   "pygments_lexer": "ipython3",
   "version": "3.7.4"
  }
 },
 "nbformat": 4,
 "nbformat_minor": 4
}
