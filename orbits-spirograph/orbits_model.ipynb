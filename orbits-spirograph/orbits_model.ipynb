{
 "cells": [
  {
   "cell_type": "code",
   "execution_count": 653,
   "metadata": {},
   "outputs": [],
   "source": [
    "import numpy as np\n",
    "import pandas as pd\n",
    "from scipy.fft import fft, fftfreq"
   ]
  },
  {
   "cell_type": "code",
   "execution_count": 654,
   "metadata": {},
   "outputs": [
    {
     "name": "stdout",
     "output_type": "stream",
     "text": [
      "The autoreload extension is already loaded. To reload it, use:\n",
      "  %reload_ext autoreload\n"
     ]
    }
   ],
   "source": [
    "from IPython.display import display, HTML\n",
    "from ipywidgets import interact, interactive, fixed, interact_manual\n",
    "import ipywidgets as widgets\n",
    "\n",
    "%load_ext autoreload\n",
    "%autoreload 2"
   ]
  },
  {
   "cell_type": "code",
   "execution_count": 655,
   "metadata": {},
   "outputs": [],
   "source": [
    "import plotly.express as px\n",
    "import plotly.graph_objects as go\n",
    "import plotly.io as pio\n",
    "from plotly.subplots import make_subplots\n",
    "\n",
    "pio.templates.default = \"plotly_white\""
   ]
  },
  {
   "cell_type": "code",
   "execution_count": 656,
   "metadata": {},
   "outputs": [],
   "source": [
    "mmult = 4\n",
    "mpad = mmult\n",
    "\n",
    "dt = 0.1/mmult\n",
    "T = 100./mmult\n",
    "N = int(T/dt)\n"
   ]
  },
  {
   "cell_type": "code",
   "execution_count": 657,
   "metadata": {},
   "outputs": [],
   "source": [
    "projnames = ['x', 'y', 'z']\n",
    "npeaks = [0, 1]"
   ]
  },
  {
   "cell_type": "code",
   "execution_count": 658,
   "metadata": {},
   "outputs": [
    {
     "name": "stdout",
     "output_type": "stream",
     "text": [
      "The autoreload extension is already loaded. To reload it, use:\n",
      "  %reload_ext autoreload\n"
     ]
    }
   ],
   "source": [
    "from IPython.display import display, HTML\n",
    "from ipywidgets import interact, interactive, fixed, interact_manual\n",
    "import ipywidgets as widgets\n",
    "\n",
    "%load_ext autoreload\n",
    "%autoreload 2"
   ]
  },
  {
   "cell_type": "code",
   "execution_count": 659,
   "metadata": {},
   "outputs": [],
   "source": [
    "import plotly.express as px\n",
    "import plotly.graph_objects as go\n",
    "import plotly.io as pio\n",
    "pio.templates.default = \"plotly_white\""
   ]
  },
  {
   "cell_type": "code",
   "execution_count": 660,
   "metadata": {},
   "outputs": [],
   "source": [
    "# in a distant future all tables are merged into one\n",
    "t = pd.DataFrame({\n",
    "    'fx0':[1], 'fy0':[1], 'fz0':[2],\n",
    "    'fx1':[2], 'fy1':[2], 'fz1':[1],\n",
    "    'Ax0':[1], 'Ay0':[0.6], 'Az0':[0.5],\n",
    "    'Ax1':[0], 'Ay1':[0], 'Az1':[0],\n",
    "    'px0':[0], 'py0':[1/2], 'pz0':[0],\n",
    "    'px1':[0], 'py1':[1/2], 'pz1':[0],\n",
    "})"
   ]
  },
  {
   "cell_type": "code",
   "execution_count": 661,
   "metadata": {},
   "outputs": [],
   "source": [
    "def build_orbit(row, tt, pos):\n",
    "    for c in projnames:  # x, y, z\n",
    "        pos[c] = 0\n",
    "        for i in npeaks:  # \n",
    "            A, f, ph = row[f\"A{c}{i}\"], row[f\"f{c}{i}\"], row[f\"p{c}{i}\"]\n",
    "            pos[c] += A*np.cos(2*np.pi*tt*f + np.pi*ph)\n",
    "    return pos"
   ]
  },
  {
   "cell_type": "code",
   "execution_count": 662,
   "metadata": {},
   "outputs": [],
   "source": [
    "def make_periodograms(x,y, mpad=mpad):\n",
    "    R = np.sqrt(x**2 + y**2)\n",
    "    PR = np.abs(fft(R, n=mpad*len(R)))\n",
    "    Px = np.abs(fft(pos['x'], n=mpad*len(R)))\n",
    "    Py = np.abs(fft(pos['y'], n=mpad*len(R)))\n",
    "    return PR, Px, Py"
   ]
  },
  {
   "cell_type": "code",
   "execution_count": 663,
   "metadata": {},
   "outputs": [],
   "source": [
    "mathdict = {'f':r\"\\nu\", 'A': 'A', 'p': r'\\varphi'}\n",
    "\n",
    "def make_math_label(l):\n",
    "    par, coord, i = l\n",
    "    return '$' + mathdict[par] +'_' + coord + '^' + '{(' + i + ')}' +'$'"
   ]
  },
  {
   "cell_type": "code",
   "execution_count": 664,
   "metadata": {},
   "outputs": [],
   "source": [
    "unicdict = {\n",
    "    'f': \"ν\", 'A': 'A', 'p': 'φ'\n",
    "}\n",
    "\n",
    "def make_html_label(l):\n",
    "    par, coord, i = l\n",
    "    return unicdict[par] + \\\n",
    "        '<sub>' + coord + '</sub>' + \\\n",
    "        '<sup>' + i + '</sup>'"
   ]
  },
  {
   "cell_type": "code",
   "execution_count": 665,
   "metadata": {},
   "outputs": [],
   "source": [
    "tt = np.arange(0, T, dt)\n",
    "pos = pd.DataFrame(np.zeros(shape=(len(tt), 3)), columns=['x', 'y', 'z'])"
   ]
  },
  {
   "cell_type": "code",
   "execution_count": 666,
   "metadata": {},
   "outputs": [],
   "source": [
    "ff = fftfreq(mpad*len(tt), dt)\n",
    "R = np.sqrt(pos['x']**2 + pos['y']**2)"
   ]
  },
  {
   "cell_type": "code",
   "execution_count": 667,
   "metadata": {},
   "outputs": [],
   "source": [
    "fig = make_subplots(rows=2, cols=3, \n",
    "                    specs=[[{}, {}, {}], [{\"colspan\": 3}, None, None]])\n",
    "\n",
    "fig.add_trace(go.Scattergl(x=pos['x'], y=pos['y'],\n",
    "                           line=dict(width=3, color='darkblue'),\n",
    "                           showlegend=False),\n",
    "              row=1, col=1)\n",
    "fig.add_trace(go.Scattergl(x=pos['x'], y=pos['z'],\n",
    "                           line=dict(width=3, color='darkblue'),\n",
    "                           showlegend=False),\n",
    "              row=1, col=2)\n",
    "fig.add_trace(go.Scattergl(x=pos['y'], y=pos['z'],\n",
    "                           line=dict(width=3, color='darkblue'),\n",
    "                           showlegend=False),\n",
    "              row=1, col=3)\n",
    "\n",
    "fig.add_trace(go.Scattergl(x=ff, y=np.abs(fft(R)),name='PR'),\n",
    "              row=2, col=1)\n",
    "fig.add_trace(go.Scattergl(x=ff, y=np.abs(fft(pos['x'])), name='Px'),\n",
    "              row=2, col=1)\n",
    "fig.add_trace(go.Scattergl(x=ff, y=np.abs(fft(pos['y'])), name='Py'),\n",
    "              row=2, col=1)\n",
    "\n",
    "# equal scale\n",
    "fig.update_layout(\n",
    "    yaxis=dict(scaleanchor=\"x\", scaleratio=1),\n",
    "    yaxis2=dict(scaleanchor=\"x2\", scaleratio=1),\n",
    "    yaxis3=dict(scaleanchor=\"x3\", scaleratio=1),\n",
    "    xaxis4=dict(range=[-5,5]),\n",
    "    legend = dict(orientation='h')\n",
    ")\n",
    "fw = go.FigureWidget(fig)"
   ]
  },
  {
   "cell_type": "code",
   "execution_count": 668,
   "metadata": {},
   "outputs": [],
   "source": [
    "widgs = dict()\n",
    "\n",
    "def setup_sliders(*sliders, deschook=None, **kw):\n",
    "    for sl in sliders:\n",
    "        desc = make_html_label(sl) if deschook is None else deschook(make_html_label(sl))\n",
    "        widgs[sl] = widgets.FloatSlider(description = desc,\n",
    "                                        value=t.loc[0,sl], **kw)"
   ]
  },
  {
   "cell_type": "code",
   "execution_count": 669,
   "metadata": {},
   "outputs": [
    {
     "data": {
      "application/vnd.jupyter.widget-view+json": {
       "model_id": "5b28981832634709abb3cc621038443a",
       "version_major": 2,
       "version_minor": 0
      },
      "text/plain": [
       "HBox(children=(VBox(children=(FloatSlider(value=1.0, description='ν<sub>x</sub><sup>0</sup>', max=10.0, readou…"
      ]
     },
     "metadata": {},
     "output_type": "display_data"
    },
    {
     "data": {
      "application/vnd.jupyter.widget-view+json": {
       "model_id": "c33a0097d35a42ae8d5802139f9d8872",
       "version_major": 2,
       "version_minor": 0
      },
      "text/plain": [
       "FigureWidget({\n",
       "    'data': [{'line': {'color': 'darkblue', 'width': 3},\n",
       "              'showlegend': False,\n",
       "   …"
      ]
     },
     "metadata": {},
     "output_type": "display_data"
    }
   ],
   "source": [
    "setup_sliders('fx0', 'fx1', 'fy0', 'fy1', \n",
    "              min=0, max=10, step=0.001, readout_format='.3f')\n",
    "setup_sliders('Ax0', 'Ax1', 'Ay0', 'Ay1',\n",
    "              min=0, max=2, step=0.01)\n",
    "setup_sliders('px0', 'px1', 'py0', 'py1', deschook=lambda x: x + \" / π\",\n",
    "              min=-1, max=1, step=0.01)\n",
    "\n",
    "ui = widgets.HBox([\n",
    "    widgets.VBox([widgs['fx0'], widgs['fx1'], widgs['fy0'], widgs['fy1']]),\n",
    "    widgets.VBox([widgs['Ax0'], widgs['Ax1'], widgs['Ay0'], widgs['Ay1']]),\n",
    "    widgets.VBox([widgs['px0'], widgs['px1'], widgs['py0'], widgs['py1']]),\n",
    "])\n",
    "\n",
    "\n",
    "def update(ch):\n",
    "    with fw.batch_update():\n",
    "        #widgs['fy0'].value = widgs['fx0'].value\n",
    "        #widgs['fy1'].value = widgs['fx1'].value\n",
    "        \n",
    "        #widgs['Ay0'].value = widgs['Ax0'].value\n",
    "        #widgs['Ay1'].value = widgs['Ax1'].value\n",
    "        \n",
    "        # modifying source table to save a state on reruns\n",
    "        for k,v in widgs.items():\n",
    "            t.loc[0, k] = v.value\n",
    "        build_orbit(t.loc[0], tt, pos)\n",
    "        fw.data[0].x = pos['x']\n",
    "        fw.data[0].y = pos['y']\n",
    "        \n",
    "        fw.data[1].x = pos['x']\n",
    "        fw.data[1].y = pos['z']\n",
    "        \n",
    "        fw.data[2].x = pos['x']\n",
    "        fw.data[2].y = pos['z']\n",
    "        \n",
    "        PR, Px, Py = make_periodograms(pos['x'], pos['y'])\n",
    "        fw.data[3].y = PR\n",
    "        fw.data[4].y = Px\n",
    "        fw.data[5].y = Py\n",
    "        #fw.layout.shapes[0].x0 = fx + fy\n",
    "        #fw.layout.shapes[0].x1 = fx + fy\n",
    "\n",
    "for k,v in widgs.items():\n",
    "    widgs[k].observe(update, names=\"value\")\n",
    "\n",
    "update(\"whatever\")\n",
    "display(ui,fw)"
   ]
  },
  {
   "cell_type": "code",
   "execution_count": 640,
   "metadata": {},
   "outputs": [
    {
     "data": {
      "text/html": [
       "<script>\n",
       " $('div.input').hide();\n",
       "</script>\n"
      ],
      "text/plain": [
       "<IPython.core.display.HTML object>"
      ]
     },
     "execution_count": 640,
     "metadata": {},
     "output_type": "execute_result"
    }
   ],
   "source": [
    "from IPython.display import HTML\n",
    "\n",
    "HTML('''<script>\n",
    " $('div.input').hide();\n",
    "</script>\n",
    "''')"
   ]
  }
 ],
 "metadata": {
  "kernelspec": {
   "display_name": "Python 3",
   "language": "python",
   "name": "python3"
  },
  "language_info": {
   "codemirror_mode": {
    "name": "ipython",
    "version": 3
   },
   "file_extension": ".py",
   "mimetype": "text/x-python",
   "name": "python",
   "nbconvert_exporter": "python",
   "pygments_lexer": "ipython3",
   "version": "3.8.1"
  },
  "toc": {
   "base_numbering": 1,
   "nav_menu": {},
   "number_sections": true,
   "sideBar": true,
   "skip_h1_title": false,
   "title_cell": "Table of Contents",
   "title_sidebar": "Contents",
   "toc_cell": true,
   "toc_position": {},
   "toc_section_display": true,
   "toc_window_display": false
  }
 },
 "nbformat": 4,
 "nbformat_minor": 4
}
