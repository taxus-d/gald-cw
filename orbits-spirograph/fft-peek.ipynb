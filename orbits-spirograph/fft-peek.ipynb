{
 "cells": [
  {
   "cell_type": "code",
   "execution_count": 1,
   "metadata": {},
   "outputs": [],
   "source": [
    "import numpy as np\n",
    "from scipy.fft import fft, fftfreq"
   ]
  },
  {
   "cell_type": "code",
   "execution_count": 2,
   "metadata": {},
   "outputs": [],
   "source": [
    "from IPython.display import display, HTML\n",
    "from ipywidgets import interact, interactive, fixed, interact_manual\n",
    "import ipywidgets as widgets\n",
    "\n",
    "%load_ext autoreload\n",
    "%autoreload 2"
   ]
  },
  {
   "cell_type": "code",
   "execution_count": 3,
   "metadata": {},
   "outputs": [],
   "source": [
    "import plotly.express as px\n",
    "import plotly.graph_objects as go\n",
    "import plotly.io as pio\n",
    "pio.templates.default = \"plotly_white\""
   ]
  },
  {
   "cell_type": "code",
   "execution_count": 4,
   "metadata": {},
   "outputs": [],
   "source": [
    "dt = 0.125\n",
    "T = 100.\n",
    "N = int(T/dt)"
   ]
  },
  {
   "cell_type": "code",
   "execution_count": 5,
   "metadata": {},
   "outputs": [],
   "source": [
    "fx = 1\n",
    "fy = 1.3\n",
    "dp = np.pi*1.2\n",
    "Ax = 1\n",
    "Ay = 0.8"
   ]
  },
  {
   "cell_type": "code",
   "execution_count": 6,
   "metadata": {},
   "outputs": [],
   "source": [
    "tt = np.arange(0, T, dt)\n",
    "x = np.cos(2*np.pi*fx*tt)*Ax\n",
    "y = np.cos(2*np.pi*fy*tt + dp)*Ay\n",
    "R = np.sqrt(x**2 + y**2)"
   ]
  },
  {
   "cell_type": "code",
   "execution_count": 7,
   "metadata": {},
   "outputs": [],
   "source": [
    "ww = fftfreq(len(tt), dt)\n",
    "PR = np.abs(fft(R))\n",
    "Px = np.abs(fft(x))\n",
    "Py = np.abs(fft(y))\n"
   ]
  },
  {
   "cell_type": "code",
   "execution_count": 8,
   "metadata": {},
   "outputs": [
    {
     "data": {
      "application/vnd.jupyter.widget-view+json": {
       "model_id": "48b9486b17574c93a632f852e78a24db",
       "version_major": 2,
       "version_minor": 0
      },
      "text/plain": [
       "HBox(children=(FloatSlider(value=1.5707963267948966, description='phase', max=6.283185307179586, readout_forma…"
      ]
     },
     "metadata": {},
     "output_type": "display_data"
    },
    {
     "data": {
      "application/vnd.jupyter.widget-view+json": {
       "model_id": "18eef91b8c0f40998c74bb68fc338677",
       "version_major": 2,
       "version_minor": 0
      },
      "text/plain": [
       "FigureWidget({\n",
       "    'data': [{'name': 'PR',\n",
       "              'type': 'scatter',\n",
       "              'uid': 'e7df8d3b-398…"
      ]
     },
     "metadata": {},
     "output_type": "display_data"
    }
   ],
   "source": [
    "fw = go.FigureWidget()\n",
    "fw.add_trace(go.Scatter(x=ww, y=PR, name='PR'))\n",
    "fw.add_trace(go.Scatter(x=ww, y=Px, name='Px'))\n",
    "fw.add_trace(go.Scatter(x=ww, y=Py, name='Py'))\n",
    "fw.add_shape(go.layout.Shape(\n",
    "    type='line', \n",
    "    x0=(fx+fy), x1 = (fx+fy), y0=0, y1=200, \n",
    "    line=dict(dash='dash'),\n",
    "    name = \"wx + wy\"\n",
    "))\n",
    "widgs = dict()\n",
    "widgs['dp'] = widgets.FloatSlider(\n",
    "    description=\"phase\", \n",
    "    value=np.pi/2, min=0, max=2*np.pi, step=0.001,\n",
    "    readout_format='.3f'\n",
    ")\n",
    "widgs['r'] = widgets.FloatSlider(\n",
    "    description=\"ratio\", \n",
    "    value=1, min=0, max=2, step=0.001,\n",
    "    readout_format='.3f'\n",
    ")\n",
    "ui = widgets.HBox([widgs['dp'], widgs['r']])\n",
    "\n",
    "def update(ch):\n",
    "    with fw.batch_update():\n",
    "        dp = widgs['dp'].value\n",
    "        r = widgs['r'].value\n",
    "        fy = fx*r\n",
    "        x = np.cos(2*np.pi*fx*tt)*Ax\n",
    "        y = np.cos(2*np.pi*fy*tt + dp)*Ay\n",
    "        R = np.sqrt(x**2 + y**2)\n",
    "        PR = np.abs(fft(R))\n",
    "        Px = np.abs(fft(x))\n",
    "        Py = np.abs(fft(y))\n",
    "        fw.data[0].y = PR\n",
    "        fw.data[1].y = Px\n",
    "        fw.data[2].y = Py\n",
    "        fw.layout.shapes[0].x0 = fx + fy\n",
    "        fw.layout.shapes[0].x1 = fx + fy\n",
    "        \n",
    "\n",
    "for k,v in widgs.items():\n",
    "    widgs[k].observe(update, names=\"value\")\n",
    "\n",
    "update(\"whatever\")\n",
    "display(ui,fw)"
   ]
  },
  {
   "cell_type": "code",
   "execution_count": 13,
   "metadata": {},
   "outputs": [
    {
     "name": "stdout",
     "output_type": "stream",
     "text": [
      "FigureWidget({\n",
      "    'data': [{'name': 'PR',\n",
      "              'type': 'scatter',\n",
      "              'uid': '3ce0b16a-dd8f-48a1-a930-9b75b067c42b',\n",
      "              'x': array([ 0.  ,  0.01,  0.02, ..., -0.03, -0.02, -0.01]),\n",
      "              'y': array([6.89440637e+02, 4.87085039e-02, 6.65636636e-02, ..., 2.71804399e-02,\n",
      "                          6.65636636e-02, 4.87085039e-02])},\n",
      "             {'name': 'Px',\n",
      "              'type': 'scatter',\n",
      "              'uid': '5ed07db4-507d-458c-81a6-1af8f38c3bf9',\n",
      "              'x': array([ 0.  ,  0.01,  0.02, ..., -0.03, -0.02, -0.01]),\n",
      "              'y': array([1.31262376e-13, 4.55504011e-14, 4.50385165e-14, ..., 6.77042659e-14,\n",
      "                          4.50385165e-14, 4.55504011e-14])},\n",
      "             {'name': 'Py',\n",
      "              'type': 'scatter',\n",
      "              'uid': '70c0ca64-e9f6-412b-a9ac-ee56d444df81',\n",
      "              'x': array([ 0.  ,  0.01,  0.02, ..., -0.03, -0.02, -0.01]),\n",
      "              'y': array([0.70475224, 0.70477708, 0.70485158, ..., 0.70497578, 0.70485158,\n",
      "                          0.70477708])}],\n",
      "    'layout': {'shapes': [{'line': {'dash': 'dash'},\n",
      "                           'name': 'wx + wy',\n",
      "                           'type': 'line',\n",
      "                           'x0': 2.3,\n",
      "                           'x1': 2.3,\n",
      "                           'y0': 0,\n",
      "                           'y1': 200}],\n",
      "               'template': '...'}\n",
      "})\n"
     ]
    }
   ],
   "source": [
    "print(fw)"
   ]
  },
  {
   "cell_type": "code",
   "execution_count": null,
   "metadata": {},
   "outputs": [],
   "source": []
  }
 ],
 "metadata": {
  "kernelspec": {
   "display_name": "Python 3",
   "language": "python",
   "name": "python3"
  },
  "language_info": {
   "codemirror_mode": {
    "name": "ipython",
    "version": 3
   },
   "file_extension": ".py",
   "mimetype": "text/x-python",
   "name": "python",
   "nbconvert_exporter": "python",
   "pygments_lexer": "ipython3",
   "version": "3.8.5"
  }
 },
 "nbformat": 4,
 "nbformat_minor": 4
}
